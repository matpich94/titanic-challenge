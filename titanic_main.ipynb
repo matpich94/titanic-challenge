{
 "cells": [
  {
   "cell_type": "code",
   "execution_count": null,
   "metadata": {},
   "outputs": [],
   "source": [
    "import import_ipynb\n",
    "import matplotlib.pyplot as plt\n",
    "from sklearn.metrics import accuracy_score\n",
    "from sklearn.metrics import confusion_matrix\n",
    "import sklearn\n",
    "import time\n",
    "import os"
   ]
  },
  {
   "cell_type": "markdown",
   "metadata": {},
   "source": [
    "#### Import  functions to extract and prepare data"
   ]
  },
  {
   "cell_type": "code",
   "execution_count": null,
   "metadata": {},
   "outputs": [],
   "source": [
    "from extraction import extractionTrain, extractionTitanicTailor, extractionSwimWorld\n",
    "from prepareData import prepareData\n",
    "from confusion_matrix import plot_confusion_matrix"
   ]
  },
  {
   "cell_type": "markdown",
   "metadata": {},
   "source": [
    "#### Extract data from the csv files"
   ]
  },
  {
   "cell_type": "code",
   "execution_count": null,
   "metadata": {},
   "outputs": [],
   "source": [
    "path = os.path.abspath(\".\")\n",
    "file_name = [path + '\\inputs\\\\train.csv', path + '\\inputs\\\\titanic_tailor.csv', path  + '\\inputs\\swimworld.csv']\n",
    "\n",
    "X, y, names = extractionTrain (file_name[0]) \n",
    "X_tailor= extractionTitanicTailor (file_name[1],names) \n",
    "X_swim = extractionSwimWorld (file_name[2], names)"
   ]
  },
  {
   "cell_type": "markdown",
   "metadata": {},
   "source": [
    "#### If required the new features can be added to the training set in order to assess the new performance with this featre"
   ]
  },
  {
   "cell_type": "code",
   "execution_count": null,
   "metadata": {},
   "outputs": [],
   "source": [
    "addTailor = False \n",
    "addSwim = False\n",
    "\n",
    "# Improve data with tailor file #\n",
    "if addTailor:\n",
    "    for i in range(len(X)):\n",
    "        X[i].append(X_tailor[i][0])\n",
    "        X[i].append(X_tailor[i][1])    \n",
    "\n",
    "# Improve data with swimworld file #\n",
    "if addSwim:\n",
    "    for i in range (len(X_swim)):\n",
    "        X[i].append(X_swim[i])"
   ]
  },
  {
   "cell_type": "markdown",
   "metadata": {},
   "source": [
    "#### Scaling the data (input data are very heterogenous)"
   ]
  },
  {
   "cell_type": "code",
   "execution_count": null,
   "metadata": {},
   "outputs": [],
   "source": [
    "scaling = True\n",
    "if scaling:\n",
    "    from sklearn.preprocessing import MinMaxScaler\n",
    "    scaler = MinMaxScaler()\n",
    "    X_scaled = scaler.fit_transform(X)"
   ]
  },
  {
   "cell_type": "markdown",
   "metadata": {},
   "source": [
    "#### Carry out a PCA to reduce the dimension of the problem"
   ]
  },
  {
   "cell_type": "code",
   "execution_count": null,
   "metadata": {},
   "outputs": [],
   "source": [
    "PCA = True\n",
    "n_components_PCA = 6\n",
    "X_train, X_test, y_train, y_test = prepareData(X, y, PCA, n_components_PCA)"
   ]
  },
  {
   "cell_type": "markdown",
   "metadata": {},
   "source": [
    "#### 1st classifier: Support Vector Machine"
   ]
  },
  {
   "cell_type": "code",
   "execution_count": null,
   "metadata": {},
   "outputs": [],
   "source": [
    "from sklearn.model_selection import GridSearchCV\n",
    "from sklearn.svm import SVC\n",
    "\n",
    "t_start_SVM = time.time()\n",
    "# the param grid is used to obtain the best parameter\n",
    "param_grid = {\n",
    "         'C': [1e3, 5e3, 1e4, 5e4, 1e5],\n",
    "          'gamma': [0.0001, 0.0005, 0.001, 0.005, 0.01, 0.1],\n",
    "          }    \n",
    "clf_SVM = GridSearchCV(SVC(kernel='rbf', class_weight='balanced'), param_grid)\n",
    "clf_SVM = clf_SVM.fit(X_train, y_train)\n",
    "t_SVM = round(time.time() - t_start_SVM, 3)\n",
    "\n",
    "# Prediction\n",
    "y_pred_SVM = clf_SVM.predict(X_test)"
   ]
  },
  {
   "cell_type": "markdown",
   "metadata": {},
   "source": [
    "#### 2d classifier: Fully Connected Neural Network"
   ]
  },
  {
   "cell_type": "code",
   "execution_count": null,
   "metadata": {},
   "outputs": [],
   "source": [
    "from sklearn.neural_network import MLPClassifier\n",
    "\n",
    "t_start_NN = time.time()\n",
    "clf_NN = MLPClassifier(solver='lbfgs', alpha=1e-5, hidden_layer_sizes=(5,5,5,4),random_state=1)\n",
    "clf_NN.fit(X_train, y_train)\n",
    "t_NN = round(time.time() - t_start_NN, 3)\n",
    "\n",
    "#Prediction\n",
    "y_pred_NN = clf_NN.predict(X_test)\n",
    "  "
   ]
  },
  {
   "cell_type": "markdown",
   "metadata": {},
   "source": [
    "#### 3d classifier: Random Forest"
   ]
  },
  {
   "cell_type": "code",
   "execution_count": null,
   "metadata": {},
   "outputs": [],
   "source": [
    "from sklearn.ensemble import RandomForestClassifier\n",
    "\n",
    "t_start_RF = time.time()\n",
    "clf_RF = RandomForestClassifier(max_depth=2, random_state=0)\n",
    "clf_RF.fit(X_train, y_train)\n",
    "t_RF = round(time.time() - t_start_NN, 3)\n",
    "\n",
    "# Prediction\n",
    "y_pred_RF = clf_RF.predict(X_test)\n",
    " "
   ]
  },
  {
   "cell_type": "markdown",
   "metadata": {},
   "source": [
    "#### Compute the accuracy and compare the results"
   ]
  },
  {
   "cell_type": "code",
   "execution_count": null,
   "metadata": {},
   "outputs": [],
   "source": [
    "accuracy_SVM = round(accuracy_score(y_test,y_pred_SVM),2)\n",
    "accuracy_NN = round(accuracy_score(y_test,y_pred_NN),2)\n",
    "accuracy_RF = round(accuracy_score(y_test,y_pred_RF),2)\n",
    "\n",
    "print (\"Accuracy reached with SVM : {} in {} s\".format(accuracy_SVM, t_SVM))\n",
    "print (\"Accuracy reached with NN : {} in {} s\".format(accuracy_NN, t_NN))\n",
    "print (\"Accuracy reached with RF : {} in {} s\".format(accuracy_RF, t_RF))"
   ]
  },
  {
   "cell_type": "markdown",
   "metadata": {},
   "source": [
    "#### Confusion Matrices"
   ]
  },
  {
   "cell_type": "code",
   "execution_count": null,
   "metadata": {},
   "outputs": [],
   "source": [
    "conf_mat_SVM = confusion_matrix(y_test,y_pred_SVM, [0, 1] )\n",
    "conf_mat_NN = confusion_matrix(y_test,y_pred_NN, [0, 1] )\n",
    "conf_mat_RF = confusion_matrix(y_test,y_pred_RF, [0, 1] )\n",
    "\n",
    "matrix_to_plot = conf_mat_NN\n",
    "plot_confusion_matrix(matrix_to_plot, classes = [0,1],normalize = False, title = 'Confusion matrix SVM',cmap=plt.cm.Blues)\n"
   ]
  }
 ],
 "metadata": {
  "kernelspec": {
   "display_name": "Python 3",
   "language": "python",
   "name": "python3"
  },
  "language_info": {
   "codemirror_mode": {
    "name": "ipython",
    "version": 3
   },
   "file_extension": ".py",
   "mimetype": "text/x-python",
   "name": "python",
   "nbconvert_exporter": "python",
   "pygments_lexer": "ipython3",
   "version": "3.7.2"
  }
 },
 "nbformat": 4,
 "nbformat_minor": 2
}
