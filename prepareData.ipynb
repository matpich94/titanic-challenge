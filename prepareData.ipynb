{
 "cells": [
  {
   "cell_type": "markdown",
   "metadata": {},
   "source": [
    "This function prepare the data by:\n",
    "    1. Carrying out some PCA (if required)\n",
    "    2. Splitting randomly the set into a training and a test set"
   ]
  },
  {
   "cell_type": "code",
   "execution_count": 1,
   "metadata": {},
   "outputs": [],
   "source": [
    "def prepareData (X, y, PCA, n_components):\n",
    "    from sklearn.model_selection import train_test_split\n",
    "    from sklearn.decomposition import PCA\n",
    "    \n",
    "    # We first split the data into a training set and a test set\n",
    "    X_train, X_test, y_train, y_test = train_test_split(X, y, test_size = 0.2, random_state = 42)\n",
    "    \n",
    "    # We carry out a PCA to reduce the dimension of the feature  \n",
    "    # and keep the most relevant information from the feature\n",
    "    if PCA:\n",
    "        n = n_components\n",
    "        pca = PCA(n_components = n, whiten = True).fit(X_train)\n",
    "        X_train_pca = pca.transform(X_train)\n",
    "        X_test_pca = pca.transform(X_test)\n",
    "        \n",
    "        return X_train_pca, X_test_pca, y_train, y_test\n",
    "    \n",
    "    return X_train, X_test, y_train, y_test"
   ]
  }
 ],
 "metadata": {
  "kernelspec": {
   "display_name": "Python 3",
   "language": "python",
   "name": "python3"
  },
  "language_info": {
   "codemirror_mode": {
    "name": "ipython",
    "version": 3
   },
   "file_extension": ".py",
   "mimetype": "text/x-python",
   "name": "python",
   "nbconvert_exporter": "python",
   "pygments_lexer": "ipython3",
   "version": "3.7.2"
  }
 },
 "nbformat": 4,
 "nbformat_minor": 2
}
