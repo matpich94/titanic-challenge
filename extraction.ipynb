{
 "cells": [
  {
   "cell_type": "markdown",
   "metadata": {},
   "source": [
    "#### Extract data from train.csv file\n",
    "This function takes the excel file Train.csv in input and return two lists:\n",
    "    1. A list of the features corresponding of each passenger [Ticket Class; Sex; Age; SibSp; Parch; Fare] \n",
    "    2. The label corresponding: 1 if he survived, 0 if he died\n",
    "    3. A list of names of the person with some lacking features"
   ]
  },
  {
   "cell_type": "code",
   "execution_count": null,
   "metadata": {},
   "outputs": [],
   "source": [
    "def extractionTrain (train):\n",
    "    import csv\n",
    "    file = open(train, \"rt\")\n",
    "\n",
    "    features = []    \n",
    "    targets = []\n",
    "    namesToRemove = []\n",
    "    \n",
    "    try:\n",
    "        reader = csv.reader(file)\n",
    "        \n",
    "        for row in reader:            \n",
    "            feature = []\n",
    "            feature_int = []\n",
    "            \n",
    "            if row[1] != 'Survived': \n",
    "                feature.append(row[2])\n",
    "                \n",
    "                # Male are converted in 0, Female in 1\n",
    "                if row[4]=='male':  \n",
    "                        feature.append(0)\n",
    "                if row[4]=='female':\n",
    "                    feature.append(1)\n",
    "                    \n",
    "                feature.append(row[5])\n",
    "                feature.append(row[6])\n",
    "                feature.append(row[7])\n",
    "                feature.append(row[9])  \n",
    "                \n",
    "                # All the data with unknown feature must be removed from the set\n",
    "                if '' not in feature: \n",
    "                    # The label is added to targets vector: 1 if the passenger survived, 0 if he died\n",
    "                    targets.append(int(row[1])) \n",
    "                    for i in range(len(feature)):\n",
    "                        if i < 5:\n",
    "                           feature_int.append(int(float(feature[i]))) \n",
    "                        else:\n",
    "                            feature_int.append(float(feature[i]))\n",
    "                    features.append(feature_int) \n",
    "                \n",
    "                # Keep in memory the name of the passenger whose some features are missing\n",
    "                else :\n",
    "                    namesToRemove.append(row[3])                   \n",
    "                    \n",
    "                    \n",
    "    finally:\n",
    "        file.close()\n",
    "    return features, targets, namesToRemove"
   ]
  },
  {
   "cell_type": "markdown",
   "metadata": {},
   "source": [
    "#### Extract data from titanic_tailor.csv file\n",
    "This functions extracts the features from the \"titanic_tailor.csv\" file. These are \"fake\" data created to see how they can affect the performance of a classifier. They correspond to the height and the weight of the passengers.\n",
    "Furthermore, this functions takes in input the list of names to remove obtained with the previous function and thus remove the corresponding data."
   ]
  },
  {
   "cell_type": "code",
   "execution_count": null,
   "metadata": {},
   "outputs": [],
   "source": [
    "def extractionTitanicTailor (train, names):\n",
    "    import csv\n",
    "    file = open(train, \"rt\")\n",
    "\n",
    "    features = []   \n",
    "    try:\n",
    "        reader = csv.reader(file)\n",
    "        \n",
    "        for row in reader: \n",
    "            feature = []\n",
    "            if row[1] != 'Name': \n",
    "                # Verify that the person must not be removed\n",
    "                if row[1] not in names: \n",
    "                    feature.append(int(row[2]))\n",
    "                    feature.append(int(row[3]))\n",
    "                    features.append(feature)                  \n",
    "                \n",
    "    finally:\n",
    "        file.close()\n",
    "    return features"
   ]
  },
  {
   "cell_type": "markdown",
   "metadata": {},
   "source": [
    "#### Extract data from swimworld.csv file\n",
    "This functions extracts the features from the \"swimworld.csv\" file. These are \"fake\" data created to see how they can affect the performance of a classifier. They correspond to the fact that the passenger belonged or not to a swimming club (0 or 1).\n",
    "Furthermore, this functions takes in input the list of names to remove obtained with the previous function and thus remove the corresponding data."
   ]
  },
  {
   "cell_type": "code",
   "execution_count": null,
   "metadata": {},
   "outputs": [],
   "source": [
    "def extractionSwimWorld (train, names):\n",
    "    import csv\n",
    "    file = open(train, \"rt\")\n",
    "    features = []\n",
    "    try:\n",
    "        reader = csv.reader(file)\n",
    "        \n",
    "        for row in reader:\n",
    "            if row[1] != \"Name\": \n",
    "                # Verify that the person must not be removed\n",
    "                if row[1] not in names:\n",
    "                    features.append(int(row[2]))\n",
    "                    \n",
    "    finally:\n",
    "        file.close()\n",
    "        \n",
    "    return features"
   ]
  }
 ],
 "metadata": {
  "kernelspec": {
   "display_name": "Python 3",
   "language": "python",
   "name": "python3"
  },
  "language_info": {
   "codemirror_mode": {
    "name": "ipython",
    "version": 3
   },
   "file_extension": ".py",
   "mimetype": "text/x-python",
   "name": "python",
   "nbconvert_exporter": "python",
   "pygments_lexer": "ipython3",
   "version": "3.7.2"
  }
 },
 "nbformat": 4,
 "nbformat_minor": 2
}
